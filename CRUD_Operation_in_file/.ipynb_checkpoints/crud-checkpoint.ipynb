{
 "cells": [
  {
   "cell_type": "code",
   "execution_count": 31,
   "id": "17db3726",
   "metadata": {},
   "outputs": [],
   "source": [
    "import os\n",
    "def create_file(filename, mde=\"w\"):\n",
    "    \n",
    "    if os.path.exists(filename):\n",
    "        \n",
    "        print(\"file name already exists\")\n",
    "        return False\n",
    "    \n",
    "    else:\n",
    "        \n",
    "        f = open(filename, mode=mde)\n",
    "        f.close()\n",
    "        return True\n",
    "        \n",
    "def read_file(filename, mde=\"r\"):\n",
    "    \n",
    "    if os.path.exists(filename):\n",
    "        \n",
    "        try:\n",
    "            \n",
    "            f = open(filename, mode=mde)\n",
    "            content = f.readlines()\n",
    "            \n",
    "        finally:\n",
    "            \n",
    "            f.close()\n",
    "            return content, True\n",
    "    else:\n",
    "        print(\"file path doesn't exists\")\n",
    "        return False\n",
    "\n",
    "def update_file(filename, content=\"\", mde=\"a\"):\n",
    "    \n",
    "    if os.path.exists(filename):\n",
    "        \n",
    "        try:\n",
    "            f = open(filename, mode=mde)\n",
    "            f.writelines(content)\n",
    "            \n",
    "        finally:\n",
    "            f.close()\n",
    "            return True\n",
    "            \n",
    "    else:\n",
    "        print(\"file path doesn't exists\")\n",
    "        return False\n",
    "\n",
    "def remove_file(filename):\n",
    "    \n",
    "    if os.path.exists(filename):\n",
    "        \n",
    "        os.remove(filename)\n",
    "        return True\n",
    "    else:\n",
    "        print(\"file path doesn't exists\")\n",
    "        return False"
   ]
  },
  {
   "cell_type": "code",
   "execution_count": 32,
   "id": "f45715ee",
   "metadata": {},
   "outputs": [
    {
     "data": {
      "text/plain": [
       "True"
      ]
     },
     "execution_count": 32,
     "metadata": {},
     "output_type": "execute_result"
    }
   ],
   "source": [
    "# creating a empty file\n",
    "\n",
    "create_file(\"reports.txt\")\n"
   ]
  },
  {
   "cell_type": "code",
   "execution_count": 33,
   "id": "f0dbe1bf",
   "metadata": {},
   "outputs": [
    {
     "data": {
      "text/plain": [
       "True"
      ]
     },
     "execution_count": 33,
     "metadata": {},
     "output_type": "execute_result"
    }
   ],
   "source": [
    "# updating or uploading content in the file\n",
    "\n",
    "file_content = [\"this is python\\n\", \"coder camp\\n\", \"course.\"]\n",
    "update_file(\"reports.txt\", content=file_content)\n"
   ]
  },
  {
   "cell_type": "code",
   "execution_count": 34,
   "id": "e4e0a762",
   "metadata": {},
   "outputs": [
    {
     "name": "stdout",
     "output_type": "stream",
     "text": [
      "['this is python\\n', 'coder camp\\n', 'course.']\n",
      "this is python\n",
      " coder camp\n",
      " course. "
     ]
    }
   ],
   "source": [
    "# reading content in the file\n",
    "\n",
    "content, flag = read_file(\"reports.txt\")\n",
    "print(content)\n",
    "\n",
    "if flag:\n",
    "    for line in content:\n",
    "        print(line,end=\" \")\n",
    "        "
   ]
  },
  {
   "cell_type": "code",
   "execution_count": 35,
   "id": "c1b0273a",
   "metadata": {},
   "outputs": [
    {
     "name": "stdout",
     "output_type": "stream",
     "text": [
      "True\n"
     ]
    }
   ],
   "source": [
    "# delete the file\n",
    "\n",
    "print(remove_file(\"reports.txt\"))\n"
   ]
  },
  {
   "cell_type": "code",
   "execution_count": null,
   "id": "a084f64f",
   "metadata": {},
   "outputs": [],
   "source": []
  }
 ],
 "metadata": {
  "kernelspec": {
   "display_name": "Python 3 (ipykernel)",
   "language": "python",
   "name": "python3"
  },
  "language_info": {
   "codemirror_mode": {
    "name": "ipython",
    "version": 3
   },
   "file_extension": ".py",
   "mimetype": "text/x-python",
   "name": "python",
   "nbconvert_exporter": "python",
   "pygments_lexer": "ipython3",
   "version": "3.10.1"
  }
 },
 "nbformat": 4,
 "nbformat_minor": 5
}
